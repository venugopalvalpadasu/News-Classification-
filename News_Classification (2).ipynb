{
  "nbformat": 4,
  "nbformat_minor": 0,
  "metadata": {
    "colab": {
      "name": "News Classification.ipynb",
      "provenance": [],
      "collapsed_sections": []
    },
    "kernelspec": {
      "name": "python3",
      "display_name": "Python 3"
    },
    "language_info": {
      "name": "python"
    },
    "accelerator": "GPU"
  },
  "cells": [
    {
      "cell_type": "code",
      "metadata": {
        "id": "yMhc8sggxaXJ"
      },
      "source": [
        "import pandas as pd\n",
        "import seaborn as sns"
      ],
      "execution_count": 1,
      "outputs": []
    },
    {
      "cell_type": "code",
      "metadata": {
        "colab": {
          "base_uri": "https://localhost:8080/"
        },
        "id": "POTV--IlcZqj",
        "outputId": "c49fe353-4ec9-4bde-9054-20cdeac907f1"
      },
      "source": [
        "from google.colab import drive\n",
        "drive.mount('/content/drive')"
      ],
      "execution_count": 2,
      "outputs": [
        {
          "output_type": "stream",
          "text": [
            "Drive already mounted at /content/drive; to attempt to forcibly remount, call drive.mount(\"/content/drive\", force_remount=True).\n"
          ],
          "name": "stdout"
        }
      ]
    },
    {
      "cell_type": "code",
      "metadata": {
        "id": "-VR3hl7FxaZ-"
      },
      "source": [
        "df = pd.read_json('/content/drive/MyDrive/News_Category_Dataset_v2.json/News_Category_Dataset_v2.json',lines=True)"
      ],
      "execution_count": 3,
      "outputs": []
    },
    {
      "cell_type": "code",
      "metadata": {
        "colab": {
          "base_uri": "https://localhost:8080/",
          "height": 611
        },
        "id": "wHXZwSrAxac1",
        "outputId": "9d029180-af11-4583-e3f4-5acb9758b835"
      },
      "source": [
        "df"
      ],
      "execution_count": 4,
      "outputs": [
        {
          "output_type": "execute_result",
          "data": {
            "text/html": [
              "<div>\n",
              "<style scoped>\n",
              "    .dataframe tbody tr th:only-of-type {\n",
              "        vertical-align: middle;\n",
              "    }\n",
              "\n",
              "    .dataframe tbody tr th {\n",
              "        vertical-align: top;\n",
              "    }\n",
              "\n",
              "    .dataframe thead th {\n",
              "        text-align: right;\n",
              "    }\n",
              "</style>\n",
              "<table border=\"1\" class=\"dataframe\">\n",
              "  <thead>\n",
              "    <tr style=\"text-align: right;\">\n",
              "      <th></th>\n",
              "      <th>category</th>\n",
              "      <th>headline</th>\n",
              "      <th>authors</th>\n",
              "      <th>link</th>\n",
              "      <th>short_description</th>\n",
              "      <th>date</th>\n",
              "    </tr>\n",
              "  </thead>\n",
              "  <tbody>\n",
              "    <tr>\n",
              "      <th>0</th>\n",
              "      <td>CRIME</td>\n",
              "      <td>There Were 2 Mass Shootings In Texas Last Week...</td>\n",
              "      <td>Melissa Jeltsen</td>\n",
              "      <td>https://www.huffingtonpost.com/entry/texas-ama...</td>\n",
              "      <td>She left her husband. He killed their children...</td>\n",
              "      <td>2018-05-26</td>\n",
              "    </tr>\n",
              "    <tr>\n",
              "      <th>1</th>\n",
              "      <td>ENTERTAINMENT</td>\n",
              "      <td>Will Smith Joins Diplo And Nicky Jam For The 2...</td>\n",
              "      <td>Andy McDonald</td>\n",
              "      <td>https://www.huffingtonpost.com/entry/will-smit...</td>\n",
              "      <td>Of course it has a song.</td>\n",
              "      <td>2018-05-26</td>\n",
              "    </tr>\n",
              "    <tr>\n",
              "      <th>2</th>\n",
              "      <td>ENTERTAINMENT</td>\n",
              "      <td>Hugh Grant Marries For The First Time At Age 57</td>\n",
              "      <td>Ron Dicker</td>\n",
              "      <td>https://www.huffingtonpost.com/entry/hugh-gran...</td>\n",
              "      <td>The actor and his longtime girlfriend Anna Ebe...</td>\n",
              "      <td>2018-05-26</td>\n",
              "    </tr>\n",
              "    <tr>\n",
              "      <th>3</th>\n",
              "      <td>ENTERTAINMENT</td>\n",
              "      <td>Jim Carrey Blasts 'Castrato' Adam Schiff And D...</td>\n",
              "      <td>Ron Dicker</td>\n",
              "      <td>https://www.huffingtonpost.com/entry/jim-carre...</td>\n",
              "      <td>The actor gives Dems an ass-kicking for not fi...</td>\n",
              "      <td>2018-05-26</td>\n",
              "    </tr>\n",
              "    <tr>\n",
              "      <th>4</th>\n",
              "      <td>ENTERTAINMENT</td>\n",
              "      <td>Julianna Margulies Uses Donald Trump Poop Bags...</td>\n",
              "      <td>Ron Dicker</td>\n",
              "      <td>https://www.huffingtonpost.com/entry/julianna-...</td>\n",
              "      <td>The \"Dietland\" actress said using the bags is ...</td>\n",
              "      <td>2018-05-26</td>\n",
              "    </tr>\n",
              "    <tr>\n",
              "      <th>...</th>\n",
              "      <td>...</td>\n",
              "      <td>...</td>\n",
              "      <td>...</td>\n",
              "      <td>...</td>\n",
              "      <td>...</td>\n",
              "      <td>...</td>\n",
              "    </tr>\n",
              "    <tr>\n",
              "      <th>200848</th>\n",
              "      <td>TECH</td>\n",
              "      <td>RIM CEO Thorsten Heins' 'Significant' Plans Fo...</td>\n",
              "      <td>Reuters, Reuters</td>\n",
              "      <td>https://www.huffingtonpost.com/entry/rim-ceo-t...</td>\n",
              "      <td>Verizon Wireless and AT&amp;T are already promotin...</td>\n",
              "      <td>2012-01-28</td>\n",
              "    </tr>\n",
              "    <tr>\n",
              "      <th>200849</th>\n",
              "      <td>SPORTS</td>\n",
              "      <td>Maria Sharapova Stunned By Victoria Azarenka I...</td>\n",
              "      <td></td>\n",
              "      <td>https://www.huffingtonpost.com/entry/maria-sha...</td>\n",
              "      <td>Afterward, Azarenka, more effusive with the pr...</td>\n",
              "      <td>2012-01-28</td>\n",
              "    </tr>\n",
              "    <tr>\n",
              "      <th>200850</th>\n",
              "      <td>SPORTS</td>\n",
              "      <td>Giants Over Patriots, Jets Over Colts Among  M...</td>\n",
              "      <td></td>\n",
              "      <td>https://www.huffingtonpost.com/entry/super-bow...</td>\n",
              "      <td>Leading up to Super Bowl XLVI, the most talked...</td>\n",
              "      <td>2012-01-28</td>\n",
              "    </tr>\n",
              "    <tr>\n",
              "      <th>200851</th>\n",
              "      <td>SPORTS</td>\n",
              "      <td>Aldon Smith Arrested: 49ers Linebacker Busted ...</td>\n",
              "      <td></td>\n",
              "      <td>https://www.huffingtonpost.com/entry/aldon-smi...</td>\n",
              "      <td>CORRECTION: An earlier version of this story i...</td>\n",
              "      <td>2012-01-28</td>\n",
              "    </tr>\n",
              "    <tr>\n",
              "      <th>200852</th>\n",
              "      <td>SPORTS</td>\n",
              "      <td>Dwight Howard Rips Teammates After Magic Loss ...</td>\n",
              "      <td></td>\n",
              "      <td>https://www.huffingtonpost.com/entry/dwight-ho...</td>\n",
              "      <td>The five-time all-star center tore into his te...</td>\n",
              "      <td>2012-01-28</td>\n",
              "    </tr>\n",
              "  </tbody>\n",
              "</table>\n",
              "<p>200853 rows × 6 columns</p>\n",
              "</div>"
            ],
            "text/plain": [
              "             category  ...       date\n",
              "0               CRIME  ... 2018-05-26\n",
              "1       ENTERTAINMENT  ... 2018-05-26\n",
              "2       ENTERTAINMENT  ... 2018-05-26\n",
              "3       ENTERTAINMENT  ... 2018-05-26\n",
              "4       ENTERTAINMENT  ... 2018-05-26\n",
              "...               ...  ...        ...\n",
              "200848           TECH  ... 2012-01-28\n",
              "200849         SPORTS  ... 2012-01-28\n",
              "200850         SPORTS  ... 2012-01-28\n",
              "200851         SPORTS  ... 2012-01-28\n",
              "200852         SPORTS  ... 2012-01-28\n",
              "\n",
              "[200853 rows x 6 columns]"
            ]
          },
          "metadata": {},
          "execution_count": 4
        }
      ]
    },
    {
      "cell_type": "code",
      "metadata": {
        "colab": {
          "base_uri": "https://localhost:8080/",
          "height": 291
        },
        "id": "yA4hZ_1Bxafp",
        "outputId": "180768e1-0a2d-46b0-e4cc-1d2bd2a7aef6"
      },
      "source": [
        "df.head()"
      ],
      "execution_count": 5,
      "outputs": [
        {
          "output_type": "execute_result",
          "data": {
            "text/html": [
              "<div>\n",
              "<style scoped>\n",
              "    .dataframe tbody tr th:only-of-type {\n",
              "        vertical-align: middle;\n",
              "    }\n",
              "\n",
              "    .dataframe tbody tr th {\n",
              "        vertical-align: top;\n",
              "    }\n",
              "\n",
              "    .dataframe thead th {\n",
              "        text-align: right;\n",
              "    }\n",
              "</style>\n",
              "<table border=\"1\" class=\"dataframe\">\n",
              "  <thead>\n",
              "    <tr style=\"text-align: right;\">\n",
              "      <th></th>\n",
              "      <th>category</th>\n",
              "      <th>headline</th>\n",
              "      <th>authors</th>\n",
              "      <th>link</th>\n",
              "      <th>short_description</th>\n",
              "      <th>date</th>\n",
              "    </tr>\n",
              "  </thead>\n",
              "  <tbody>\n",
              "    <tr>\n",
              "      <th>0</th>\n",
              "      <td>CRIME</td>\n",
              "      <td>There Were 2 Mass Shootings In Texas Last Week...</td>\n",
              "      <td>Melissa Jeltsen</td>\n",
              "      <td>https://www.huffingtonpost.com/entry/texas-ama...</td>\n",
              "      <td>She left her husband. He killed their children...</td>\n",
              "      <td>2018-05-26</td>\n",
              "    </tr>\n",
              "    <tr>\n",
              "      <th>1</th>\n",
              "      <td>ENTERTAINMENT</td>\n",
              "      <td>Will Smith Joins Diplo And Nicky Jam For The 2...</td>\n",
              "      <td>Andy McDonald</td>\n",
              "      <td>https://www.huffingtonpost.com/entry/will-smit...</td>\n",
              "      <td>Of course it has a song.</td>\n",
              "      <td>2018-05-26</td>\n",
              "    </tr>\n",
              "    <tr>\n",
              "      <th>2</th>\n",
              "      <td>ENTERTAINMENT</td>\n",
              "      <td>Hugh Grant Marries For The First Time At Age 57</td>\n",
              "      <td>Ron Dicker</td>\n",
              "      <td>https://www.huffingtonpost.com/entry/hugh-gran...</td>\n",
              "      <td>The actor and his longtime girlfriend Anna Ebe...</td>\n",
              "      <td>2018-05-26</td>\n",
              "    </tr>\n",
              "    <tr>\n",
              "      <th>3</th>\n",
              "      <td>ENTERTAINMENT</td>\n",
              "      <td>Jim Carrey Blasts 'Castrato' Adam Schiff And D...</td>\n",
              "      <td>Ron Dicker</td>\n",
              "      <td>https://www.huffingtonpost.com/entry/jim-carre...</td>\n",
              "      <td>The actor gives Dems an ass-kicking for not fi...</td>\n",
              "      <td>2018-05-26</td>\n",
              "    </tr>\n",
              "    <tr>\n",
              "      <th>4</th>\n",
              "      <td>ENTERTAINMENT</td>\n",
              "      <td>Julianna Margulies Uses Donald Trump Poop Bags...</td>\n",
              "      <td>Ron Dicker</td>\n",
              "      <td>https://www.huffingtonpost.com/entry/julianna-...</td>\n",
              "      <td>The \"Dietland\" actress said using the bags is ...</td>\n",
              "      <td>2018-05-26</td>\n",
              "    </tr>\n",
              "  </tbody>\n",
              "</table>\n",
              "</div>"
            ],
            "text/plain": [
              "        category  ...       date\n",
              "0          CRIME  ... 2018-05-26\n",
              "1  ENTERTAINMENT  ... 2018-05-26\n",
              "2  ENTERTAINMENT  ... 2018-05-26\n",
              "3  ENTERTAINMENT  ... 2018-05-26\n",
              "4  ENTERTAINMENT  ... 2018-05-26\n",
              "\n",
              "[5 rows x 6 columns]"
            ]
          },
          "metadata": {},
          "execution_count": 5
        }
      ]
    },
    {
      "cell_type": "code",
      "metadata": {
        "colab": {
          "base_uri": "https://localhost:8080/"
        },
        "id": "gOHf2GOJxaio",
        "outputId": "205cea60-65dd-4b72-9c3a-f4dd4efaba87"
      },
      "source": [
        "pd.unique(df['category'])"
      ],
      "execution_count": 6,
      "outputs": [
        {
          "output_type": "execute_result",
          "data": {
            "text/plain": [
              "array(['CRIME', 'ENTERTAINMENT', 'WORLD NEWS', 'IMPACT', 'POLITICS',\n",
              "       'WEIRD NEWS', 'BLACK VOICES', 'WOMEN', 'COMEDY', 'QUEER VOICES',\n",
              "       'SPORTS', 'BUSINESS', 'TRAVEL', 'MEDIA', 'TECH', 'RELIGION',\n",
              "       'SCIENCE', 'LATINO VOICES', 'EDUCATION', 'COLLEGE', 'PARENTS',\n",
              "       'ARTS & CULTURE', 'STYLE', 'GREEN', 'TASTE', 'HEALTHY LIVING',\n",
              "       'THE WORLDPOST', 'GOOD NEWS', 'WORLDPOST', 'FIFTY', 'ARTS',\n",
              "       'WELLNESS', 'PARENTING', 'HOME & LIVING', 'STYLE & BEAUTY',\n",
              "       'DIVORCE', 'WEDDINGS', 'FOOD & DRINK', 'MONEY', 'ENVIRONMENT',\n",
              "       'CULTURE & ARTS'], dtype=object)"
            ]
          },
          "metadata": {},
          "execution_count": 6
        }
      ]
    },
    {
      "cell_type": "code",
      "metadata": {
        "colab": {
          "base_uri": "https://localhost:8080/",
          "height": 352
        },
        "id": "uFUpLQptCeRo",
        "outputId": "4138e142-7486-4c1f-ebef-da2fe3e36e7e"
      },
      "source": [
        "sns.countplot(df.category)"
      ],
      "execution_count": 7,
      "outputs": [
        {
          "output_type": "stream",
          "text": [
            "/usr/local/lib/python3.7/dist-packages/seaborn/_decorators.py:43: FutureWarning: Pass the following variable as a keyword arg: x. From version 0.12, the only valid positional argument will be `data`, and passing other arguments without an explicit keyword will result in an error or misinterpretation.\n",
            "  FutureWarning\n"
          ],
          "name": "stderr"
        },
        {
          "output_type": "execute_result",
          "data": {
            "text/plain": [
              "<matplotlib.axes._subplots.AxesSubplot at 0x7fc84f5c9510>"
            ]
          },
          "metadata": {},
          "execution_count": 7
        },
        {
          "output_type": "display_data",
          "data": {
            "image/png": "[encoded data removed]",
            "text/plain": [
              "<Figure size 432x288 with 1 Axes>"
            ]
          },
          "metadata": {
            "needs_background": "light"
          }
        }
      ]
    },
    {
      "cell_type": "code",
      "metadata": {
        "colab": {
          "base_uri": "https://localhost:8080/"
        },
        "id": "JklVR6azBTlt",
        "outputId": "058cdfba-f767-4f88-f10f-d1e7b9fb8ee0"
      },
      "source": [
        "df['category'].nunique()"
      ],
      "execution_count": 8,
      "outputs": [
        {
          "output_type": "execute_result",
          "data": {
            "text/plain": [
              "41"
            ]
          },
          "metadata": {},
          "execution_count": 8
        }
      ]
    },
    {
      "cell_type": "code",
      "metadata": {
        "id": "TVaG-UBMynna"
      },
      "source": [
        "df = df.rename(columns={'headline': 'TITLE'})"
      ],
      "execution_count": 9,
      "outputs": []
    },
    {
      "cell_type": "code",
      "metadata": {
        "id": "xvA2Z5zNzawT"
      },
      "source": [
        "from nltk.corpus import stopwords\n",
        "from nltk.tokenize import word_tokenize,sent_tokenize"
      ],
      "execution_count": 10,
      "outputs": []
    },
    {
      "cell_type": "code",
      "metadata": {
        "colab": {
          "base_uri": "https://localhost:8080/"
        },
        "id": "r6EzIxCkzfZ4",
        "outputId": "c65718b6-9488-4624-e448-61269270e26c"
      },
      "source": [
        "import nltk\n",
        "nltk.download('punkt')"
      ],
      "execution_count": 11,
      "outputs": [
        {
          "output_type": "stream",
          "text": [
            "[nltk_data] Downloading package punkt to /root/nltk_data...\n",
            "[nltk_data]   Unzipping tokenizers/punkt.zip.\n"
          ],
          "name": "stdout"
        },
        {
          "output_type": "execute_result",
          "data": {
            "text/plain": [
              "True"
            ]
          },
          "metadata": {},
          "execution_count": 11
        }
      ]
    },
    {
      "cell_type": "code",
      "metadata": {
        "id": "EuoadjdZxaoN"
      },
      "source": [
        "# Headlines Tokenization\n",
        "\n",
        "# Required Libraries\n",
        "from nltk.tokenize import sent_tokenize, word_tokenize\n",
        "\n",
        "TOKENIZED_TITLES = []\n",
        "\n",
        "for headline in df['TITLE']:\n",
        "    TOKENIZED_TITLES.append(word_tokenize(headline.lower()))"
      ],
      "execution_count": 12,
      "outputs": []
    },
    {
      "cell_type": "code",
      "metadata": {
        "colab": {
          "base_uri": "https://localhost:8080/"
        },
        "id": "J87PDCB3xarQ",
        "outputId": "f86ba72c-e03a-4620-b4c1-037eb41ff2b3"
      },
      "source": [
        "# Headlines have been tokenized\n",
        "for title in TOKENIZED_TITLES[0:10]:\n",
        "    print(title)"
      ],
      "execution_count": 13,
      "outputs": [
        {
          "output_type": "stream",
          "text": [
            "['there', 'were', '2', 'mass', 'shootings', 'in', 'texas', 'last', 'week', ',', 'but', 'only', '1', 'on', 'tv']\n",
            "['will', 'smith', 'joins', 'diplo', 'and', 'nicky', 'jam', 'for', 'the', '2018', 'world', 'cup', \"'s\", 'official', 'song']\n",
            "['hugh', 'grant', 'marries', 'for', 'the', 'first', 'time', 'at', 'age', '57']\n",
            "['jim', 'carrey', 'blasts', \"'castrato\", \"'\", 'adam', 'schiff', 'and', 'democrats', 'in', 'new', 'artwork']\n",
            "['julianna', 'margulies', 'uses', 'donald', 'trump', 'poop', 'bags', 'to', 'pick', 'up', 'after', 'her', 'dog']\n",
            "['morgan', 'freeman', \"'devastated\", \"'\", 'that', 'sexual', 'harassment', 'claims', 'could', 'undermine', 'legacy']\n",
            "['donald', 'trump', 'is', 'lovin', \"'\", 'new', 'mcdonald', \"'s\", 'jingle', 'in', \"'tonight\", 'show', \"'\", 'bit']\n",
            "['what', 'to', 'watch', 'on', 'amazon', 'prime', 'that', '’', 's', 'new', 'this', 'week']\n",
            "['mike', 'myers', 'reveals', 'he', \"'d\", \"'like\", 'to', \"'\", 'do', 'a', 'fourth', 'austin', 'powers', 'film']\n",
            "['what', 'to', 'watch', 'on', 'hulu', 'that', '’', 's', 'new', 'this', 'week']\n"
          ],
          "name": "stdout"
        }
      ]
    },
    {
      "cell_type": "code",
      "metadata": {
        "id": "DC0q2YtNxauJ"
      },
      "source": [
        "# Pickling TOKENIZED_TITLES\n",
        "\n",
        "# Required Library\n",
        "import pickle\n",
        "\n",
        "file = \"/content/drive/MyDrive/News_Category_Dataset_v2.json/Tokenized Titles.pkl\"\n",
        "fileobj = open(file, 'wb')\n",
        "pickle.dump(TOKENIZED_TITLES, fileobj)\n",
        "fileobj.close()"
      ],
      "execution_count": 14,
      "outputs": []
    },
    {
      "cell_type": "code",
      "metadata": {
        "colab": {
          "base_uri": "https://localhost:8080/"
        },
        "id": "znxmXvpuxaxG",
        "outputId": "461d3141-aaf8-46ca-fcc8-52d76ce0edf4"
      },
      "source": [
        "import nltk\n",
        "nltk.download('stopwords')"
      ],
      "execution_count": 15,
      "outputs": [
        {
          "output_type": "stream",
          "text": [
            "[nltk_data] Downloading package stopwords to /root/nltk_data...\n",
            "[nltk_data]   Unzipping corpora/stopwords.zip.\n"
          ],
          "name": "stdout"
        },
        {
          "output_type": "execute_result",
          "data": {
            "text/plain": [
              "True"
            ]
          },
          "metadata": {},
          "execution_count": 15
        }
      ]
    },
    {
      "cell_type": "code",
      "metadata": {
        "colab": {
          "base_uri": "https://localhost:8080/"
        },
        "id": "LxQqHeVBxa0G",
        "outputId": "8f1092e3-bc2e-48b7-b36e-f0b4022a034c"
      },
      "source": [
        "# Removal of Stop Words & Punctuation\n",
        "# Also removes 's\n",
        "\n",
        "# Required Libraries\n",
        "from nltk.corpus import stopwords\n",
        "import string\n",
        "\n",
        "# Stop Words for English Language\n",
        "stop_words = set(stopwords.words(\"english\"))\n",
        "print(\"Stop Words : \")\n",
        "print(stop_words)\n",
        "\n",
        "# Punctuations\n",
        "punctuations = set(string.punctuation)\n",
        "print(\"\\nPunctuations : \")\n",
        "print(punctuations)\n",
        "\n",
        "# FILTERED TITLE =  Title Without Stop Words & Punctuations\n",
        "FILTERED_TITLES = []\n",
        "\n",
        "for title in TOKENIZED_TITLES:\n",
        "    temp_title = []\n",
        "    for word in title:\n",
        "        if((word not in stop_words) and (word not in punctuations) and (word != \"'s\")):\n",
        "            temp_title.append(word)\n",
        "            \n",
        "    FILTERED_TITLES.append(temp_title)\n",
        "        \n",
        "\n",
        "print(\"\\nFiltered Titles : \")\n",
        "print(FILTERED_TITLES[0:5])"
      ],
      "execution_count": 16,
      "outputs": [
        {
          "output_type": "stream",
          "text": [
            "Stop Words : \n",
            "{\"you're\", 'should', 'they', 'couldn', \"shouldn't\", 'more', 'under', 'this', 'there', 're', \"that'll\", 'and', 'of', 'so', 'yourselves', 'himself', 'myself', 'because', 'i', 'a', 'is', 'most', 'wouldn', \"you'll\", \"she's\", 'once', 'again', 'd', 'me', \"don't\", 'had', 'the', 'did', 'from', 'on', 'any', 'at', 'whom', \"doesn't\", 'where', \"you've\", 'your', 'down', 'being', 'yours', \"needn't\", 'than', 'very', 'y', 'am', 'he', 'an', 'has', 'in', 'theirs', 'now', 'her', \"aren't\", 'own', 'hadn', 'off', \"it's\", 'don', \"should've\", \"hasn't\", 'not', 'no', \"hadn't\", \"didn't\", 'only', 'its', 'does', 'ourselves', \"you'd\", 'against', \"haven't\", 'were', 'his', 'too', 'aren', \"couldn't\", \"wasn't\", 'm', 'to', 'each', 'all', 'it', 'as', 'about', 'having', 'wasn', 'both', 'out', 'their', 'doesn', 'until', 'didn', 'between', 'other', 'some', 'won', 'been', 'weren', \"wouldn't\", 'o', 'here', 'we', 'isn', 'shan', 'ma', 'do', 'for', 'why', 'him', 'over', 'our', 'just', 'but', 'haven', 'hasn', 'what', 'such', 'if', 'll', 'those', \"mustn't\", \"isn't\", 'have', 'then', 'that', 'doing', 'she', \"shan't\", 'before', 's', 've', 'ain', 'same', 'will', 'which', 'needn', 'through', 'herself', 'after', 'yourself', 'while', 'hers', 'mightn', \"won't\", 'during', 'below', \"mightn't\", 'nor', 't', \"weren't\", 'few', 'my', 'these', 'them', 'was', 'be', 'above', 'further', 'you', 'are', 'shouldn', 'by', 'who', 'themselves', 'how', 'up', 'can', 'mustn', 'ours', 'or', 'into', 'with', 'when', 'itself'}\n",
            "\n",
            "Punctuations : \n",
            "{':', '.', '[', '\\\\', ']', ';', '>', '@', '\"', '`', ',', '#', '-', '/', '?', ')', '}', '$', '(', '=', '&', '*', '{', '|', '<', '^', '+', '~', '!', \"'\", '_', '%'}\n",
            "\n",
            "Filtered Titles : \n",
            "[['2', 'mass', 'shootings', 'texas', 'last', 'week', '1', 'tv'], ['smith', 'joins', 'diplo', 'nicky', 'jam', '2018', 'world', 'cup', 'official', 'song'], ['hugh', 'grant', 'marries', 'first', 'time', 'age', '57'], ['jim', 'carrey', 'blasts', \"'castrato\", 'adam', 'schiff', 'democrats', 'new', 'artwork'], ['julianna', 'margulies', 'uses', 'donald', 'trump', 'poop', 'bags', 'pick', 'dog']]\n"
          ],
          "name": "stdout"
        }
      ]
    },
    {
      "cell_type": "code",
      "metadata": {
        "colab": {
          "base_uri": "https://localhost:8080/"
        },
        "id": "tpSlrxiS1u4J",
        "outputId": "4d46486a-7f99-457b-d8b4-025de99afba6"
      },
      "source": [
        "# Stemming using Porter Stemmer\n",
        "\n",
        "# Required Library\n",
        "from nltk.stem import PorterStemmer\n",
        "\n",
        "porter = PorterStemmer()\n",
        "\n",
        "STEMMED_TITLES_HEADLINES = []\n",
        "\n",
        "for title in FILTERED_TITLES:\n",
        "    temp_title = []\n",
        "    for word in title:\n",
        "        temp_title.append(porter.stem(word))\n",
        "        \n",
        "    STEMMED_TITLES_HEADLINES.append(\" \".join(temp_title))\n",
        "    \n",
        "    \n",
        "print(\"Stemmed Titles Headlines : \")\n",
        "print(STEMMED_TITLES_HEADLINES[0:5])"
      ],
      "execution_count": 17,
      "outputs": [
        {
          "output_type": "stream",
          "text": [
            "Stemmed Titles Headlines : \n",
            "['2 mass shoot texa last week 1 tv', 'smith join diplo nicki jam 2018 world cup offici song', 'hugh grant marri first time age 57', \"jim carrey blast 'castrato adam schiff democrat new artwork\", 'julianna marguli use donald trump poop bag pick dog']\n"
          ],
          "name": "stdout"
        }
      ]
    },
    {
      "cell_type": "code",
      "metadata": {
        "id": "K7FiwgHk1u68"
      },
      "source": [
        "# Pickling STEMMED_TITLES_HEADLINES\n",
        "\n",
        "# Library already imported\n",
        "# import pickle\n",
        "\n",
        "file = \"/content/drive/MyDrive/News_Category_Dataset_v2.json/STEMMED_TITLES_HEADLINES.pkl\"\n",
        "fileobj = open(file, 'wb')\n",
        "pickle.dump(STEMMED_TITLES_HEADLINES, fileobj)\n",
        "fileobj.close()"
      ],
      "execution_count": 18,
      "outputs": []
    },
    {
      "cell_type": "code",
      "metadata": {
        "colab": {
          "base_uri": "https://localhost:8080/",
          "height": 291
        },
        "id": "B_mk8bHT1u97",
        "outputId": "8e399d81-fe04-416b-872a-f3ac5cadf28b"
      },
      "source": [
        "df.head()"
      ],
      "execution_count": 19,
      "outputs": [
        {
          "output_type": "execute_result",
          "data": {
            "text/html": [
              "<div>\n",
              "<style scoped>\n",
              "    .dataframe tbody tr th:only-of-type {\n",
              "        vertical-align: middle;\n",
              "    }\n",
              "\n",
              "    .dataframe tbody tr th {\n",
              "        vertical-align: top;\n",
              "    }\n",
              "\n",
              "    .dataframe thead th {\n",
              "        text-align: right;\n",
              "    }\n",
              "</style>\n",
              "<table border=\"1\" class=\"dataframe\">\n",
              "  <thead>\n",
              "    <tr style=\"text-align: right;\">\n",
              "      <th></th>\n",
              "      <th>category</th>\n",
              "      <th>TITLE</th>\n",
              "      <th>authors</th>\n",
              "      <th>link</th>\n",
              "      <th>short_description</th>\n",
              "      <th>date</th>\n",
              "    </tr>\n",
              "  </thead>\n",
              "  <tbody>\n",
              "    <tr>\n",
              "      <th>0</th>\n",
              "      <td>CRIME</td>\n",
              "      <td>There Were 2 Mass Shootings In Texas Last Week...</td>\n",
              "      <td>Melissa Jeltsen</td>\n",
              "      <td>https://www.huffingtonpost.com/entry/texas-ama...</td>\n",
              "      <td>She left her husband. He killed their children...</td>\n",
              "      <td>2018-05-26</td>\n",
              "    </tr>\n",
              "    <tr>\n",
              "      <th>1</th>\n",
              "      <td>ENTERTAINMENT</td>\n",
              "      <td>Will Smith Joins Diplo And Nicky Jam For The 2...</td>\n",
              "      <td>Andy McDonald</td>\n",
              "      <td>https://www.huffingtonpost.com/entry/will-smit...</td>\n",
              "      <td>Of course it has a song.</td>\n",
              "      <td>2018-05-26</td>\n",
              "    </tr>\n",
              "    <tr>\n",
              "      <th>2</th>\n",
              "      <td>ENTERTAINMENT</td>\n",
              "      <td>Hugh Grant Marries For The First Time At Age 57</td>\n",
              "      <td>Ron Dicker</td>\n",
              "      <td>https://www.huffingtonpost.com/entry/hugh-gran...</td>\n",
              "      <td>The actor and his longtime girlfriend Anna Ebe...</td>\n",
              "      <td>2018-05-26</td>\n",
              "    </tr>\n",
              "    <tr>\n",
              "      <th>3</th>\n",
              "      <td>ENTERTAINMENT</td>\n",
              "      <td>Jim Carrey Blasts 'Castrato' Adam Schiff And D...</td>\n",
              "      <td>Ron Dicker</td>\n",
              "      <td>https://www.huffingtonpost.com/entry/jim-carre...</td>\n",
              "      <td>The actor gives Dems an ass-kicking for not fi...</td>\n",
              "      <td>2018-05-26</td>\n",
              "    </tr>\n",
              "    <tr>\n",
              "      <th>4</th>\n",
              "      <td>ENTERTAINMENT</td>\n",
              "      <td>Julianna Margulies Uses Donald Trump Poop Bags...</td>\n",
              "      <td>Ron Dicker</td>\n",
              "      <td>https://www.huffingtonpost.com/entry/julianna-...</td>\n",
              "      <td>The \"Dietland\" actress said using the bags is ...</td>\n",
              "      <td>2018-05-26</td>\n",
              "    </tr>\n",
              "  </tbody>\n",
              "</table>\n",
              "</div>"
            ],
            "text/plain": [
              "        category  ...       date\n",
              "0          CRIME  ... 2018-05-26\n",
              "1  ENTERTAINMENT  ... 2018-05-26\n",
              "2  ENTERTAINMENT  ... 2018-05-26\n",
              "3  ENTERTAINMENT  ... 2018-05-26\n",
              "4  ENTERTAINMENT  ... 2018-05-26\n",
              "\n",
              "[5 rows x 6 columns]"
            ]
          },
          "metadata": {},
          "execution_count": 19
        }
      ]
    },
    {
      "cell_type": "code",
      "metadata": {
        "colab": {
          "base_uri": "https://localhost:8080/",
          "height": 291
        },
        "id": "vDGFVmrB1vAu",
        "outputId": "8a3ad2c8-7663-4edd-901c-ae409c566097"
      },
      "source": [
        "# Replacing HEADLINES with STEMMED_TITLES_HEADLINES\n",
        "df = df.drop(['TITLE'], axis=1)\n",
        "df.insert(0, \"TITLE\", STEMMED_TITLES_HEADLINES, True)\n",
        "df.head()"
      ],
      "execution_count": 20,
      "outputs": [
        {
          "output_type": "execute_result",
          "data": {
            "text/html": [
              "<div>\n",
              "<style scoped>\n",
              "    .dataframe tbody tr th:only-of-type {\n",
              "        vertical-align: middle;\n",
              "    }\n",
              "\n",
              "    .dataframe tbody tr th {\n",
              "        vertical-align: top;\n",
              "    }\n",
              "\n",
              "    .dataframe thead th {\n",
              "        text-align: right;\n",
              "    }\n",
              "</style>\n",
              "<table border=\"1\" class=\"dataframe\">\n",
              "  <thead>\n",
              "    <tr style=\"text-align: right;\">\n",
              "      <th></th>\n",
              "      <th>TITLE</th>\n",
              "      <th>category</th>\n",
              "      <th>authors</th>\n",
              "      <th>link</th>\n",
              "      <th>short_description</th>\n",
              "      <th>date</th>\n",
              "    </tr>\n",
              "  </thead>\n",
              "  <tbody>\n",
              "    <tr>\n",
              "      <th>0</th>\n",
              "      <td>2 mass shoot texa last week 1 tv</td>\n",
              "      <td>CRIME</td>\n",
              "      <td>Melissa Jeltsen</td>\n",
              "      <td>https://www.huffingtonpost.com/entry/texas-ama...</td>\n",
              "      <td>She left her husband. He killed their children...</td>\n",
              "      <td>2018-05-26</td>\n",
              "    </tr>\n",
              "    <tr>\n",
              "      <th>1</th>\n",
              "      <td>smith join diplo nicki jam 2018 world cup offi...</td>\n",
              "      <td>ENTERTAINMENT</td>\n",
              "      <td>Andy McDonald</td>\n",
              "      <td>https://www.huffingtonpost.com/entry/will-smit...</td>\n",
              "      <td>Of course it has a song.</td>\n",
              "      <td>2018-05-26</td>\n",
              "    </tr>\n",
              "    <tr>\n",
              "      <th>2</th>\n",
              "      <td>hugh grant marri first time age 57</td>\n",
              "      <td>ENTERTAINMENT</td>\n",
              "      <td>Ron Dicker</td>\n",
              "      <td>https://www.huffingtonpost.com/entry/hugh-gran...</td>\n",
              "      <td>The actor and his longtime girlfriend Anna Ebe...</td>\n",
              "      <td>2018-05-26</td>\n",
              "    </tr>\n",
              "    <tr>\n",
              "      <th>3</th>\n",
              "      <td>jim carrey blast 'castrato adam schiff democra...</td>\n",
              "      <td>ENTERTAINMENT</td>\n",
              "      <td>Ron Dicker</td>\n",
              "      <td>https://www.huffingtonpost.com/entry/jim-carre...</td>\n",
              "      <td>The actor gives Dems an ass-kicking for not fi...</td>\n",
              "      <td>2018-05-26</td>\n",
              "    </tr>\n",
              "    <tr>\n",
              "      <th>4</th>\n",
              "      <td>julianna marguli use donald trump poop bag pic...</td>\n",
              "      <td>ENTERTAINMENT</td>\n",
              "      <td>Ron Dicker</td>\n",
              "      <td>https://www.huffingtonpost.com/entry/julianna-...</td>\n",
              "      <td>The \"Dietland\" actress said using the bags is ...</td>\n",
              "      <td>2018-05-26</td>\n",
              "    </tr>\n",
              "  </tbody>\n",
              "</table>\n",
              "</div>"
            ],
            "text/plain": [
              "                                               TITLE  ...       date\n",
              "0                   2 mass shoot texa last week 1 tv  ... 2018-05-26\n",
              "1  smith join diplo nicki jam 2018 world cup offi...  ... 2018-05-26\n",
              "2                 hugh grant marri first time age 57  ... 2018-05-26\n",
              "3  jim carrey blast 'castrato adam schiff democra...  ... 2018-05-26\n",
              "4  julianna marguli use donald trump poop bag pic...  ... 2018-05-26\n",
              "\n",
              "[5 rows x 6 columns]"
            ]
          },
          "metadata": {},
          "execution_count": 20
        }
      ]
    },
    {
      "cell_type": "code",
      "metadata": {
        "colab": {
          "base_uri": "https://localhost:8080/",
          "height": 343
        },
        "id": "QFlKriFx1vDk",
        "outputId": "ea550c55-eeca-4734-b910-699eb98c6714"
      },
      "source": [
        "# Encoding News Categories\n",
        "\n",
        "# Required Library\n",
        "from sklearn.preprocessing import LabelEncoder\n",
        "\n",
        "labelencoder = LabelEncoder()\n",
        "\n",
        "# Adding Column of ENCODED CATEGORY\n",
        "df.insert(2, \"ENCODED_CATEGORY\", labelencoder.fit_transform(df['category']), True)\n",
        "\n",
        "# Business -> 0\n",
        "# Health -> 1\n",
        "# Entertainment -> 2\n",
        "# Science & Technology -> 3\n",
        "\n",
        "df.head()"
      ],
      "execution_count": 21,
      "outputs": [
        {
          "output_type": "execute_result",
          "data": {
            "text/html": [
              "<div>\n",
              "<style scoped>\n",
              "    .dataframe tbody tr th:only-of-type {\n",
              "        vertical-align: middle;\n",
              "    }\n",
              "\n",
              "    .dataframe tbody tr th {\n",
              "        vertical-align: top;\n",
              "    }\n",
              "\n",
              "    .dataframe thead th {\n",
              "        text-align: right;\n",
              "    }\n",
              "</style>\n",
              "<table border=\"1\" class=\"dataframe\">\n",
              "  <thead>\n",
              "    <tr style=\"text-align: right;\">\n",
              "      <th></th>\n",
              "      <th>TITLE</th>\n",
              "      <th>category</th>\n",
              "      <th>ENCODED_CATEGORY</th>\n",
              "      <th>authors</th>\n",
              "      <th>link</th>\n",
              "      <th>short_description</th>\n",
              "      <th>date</th>\n",
              "    </tr>\n",
              "  </thead>\n",
              "  <tbody>\n",
              "    <tr>\n",
              "      <th>0</th>\n",
              "      <td>2 mass shoot texa last week 1 tv</td>\n",
              "      <td>CRIME</td>\n",
              "      <td>6</td>\n",
              "      <td>Melissa Jeltsen</td>\n",
              "      <td>https://www.huffingtonpost.com/entry/texas-ama...</td>\n",
              "      <td>She left her husband. He killed their children...</td>\n",
              "      <td>2018-05-26</td>\n",
              "    </tr>\n",
              "    <tr>\n",
              "      <th>1</th>\n",
              "      <td>smith join diplo nicki jam 2018 world cup offi...</td>\n",
              "      <td>ENTERTAINMENT</td>\n",
              "      <td>10</td>\n",
              "      <td>Andy McDonald</td>\n",
              "      <td>https://www.huffingtonpost.com/entry/will-smit...</td>\n",
              "      <td>Of course it has a song.</td>\n",
              "      <td>2018-05-26</td>\n",
              "    </tr>\n",
              "    <tr>\n",
              "      <th>2</th>\n",
              "      <td>hugh grant marri first time age 57</td>\n",
              "      <td>ENTERTAINMENT</td>\n",
              "      <td>10</td>\n",
              "      <td>Ron Dicker</td>\n",
              "      <td>https://www.huffingtonpost.com/entry/hugh-gran...</td>\n",
              "      <td>The actor and his longtime girlfriend Anna Ebe...</td>\n",
              "      <td>2018-05-26</td>\n",
              "    </tr>\n",
              "    <tr>\n",
              "      <th>3</th>\n",
              "      <td>jim carrey blast 'castrato adam schiff democra...</td>\n",
              "      <td>ENTERTAINMENT</td>\n",
              "      <td>10</td>\n",
              "      <td>Ron Dicker</td>\n",
              "      <td>https://www.huffingtonpost.com/entry/jim-carre...</td>\n",
              "      <td>The actor gives Dems an ass-kicking for not fi...</td>\n",
              "      <td>2018-05-26</td>\n",
              "    </tr>\n",
              "    <tr>\n",
              "      <th>4</th>\n",
              "      <td>julianna marguli use donald trump poop bag pic...</td>\n",
              "      <td>ENTERTAINMENT</td>\n",
              "      <td>10</td>\n",
              "      <td>Ron Dicker</td>\n",
              "      <td>https://www.huffingtonpost.com/entry/julianna-...</td>\n",
              "      <td>The \"Dietland\" actress said using the bags is ...</td>\n",
              "      <td>2018-05-26</td>\n",
              "    </tr>\n",
              "  </tbody>\n",
              "</table>\n",
              "</div>"
            ],
            "text/plain": [
              "                                               TITLE  ...       date\n",
              "0                   2 mass shoot texa last week 1 tv  ... 2018-05-26\n",
              "1  smith join diplo nicki jam 2018 world cup offi...  ... 2018-05-26\n",
              "2                 hugh grant marri first time age 57  ... 2018-05-26\n",
              "3  jim carrey blast 'castrato adam schiff democra...  ... 2018-05-26\n",
              "4  julianna marguli use donald trump poop bag pic...  ... 2018-05-26\n",
              "\n",
              "[5 rows x 7 columns]"
            ]
          },
          "metadata": {},
          "execution_count": 21
        }
      ]
    },
    {
      "cell_type": "code",
      "metadata": {
        "id": "qfpAyWxG1vHE"
      },
      "source": [
        "# Pickling DataFrame\n",
        "\n",
        "# Library already imported\n",
        "# import pickle\n",
        "\n",
        "file = \"/content/drive/MyDrive/News_Category_Dataset_v2.json/DATAFRAME.pkl\"\n",
        "fileobj = open(file, 'wb')\n",
        "pickle.dump(df, fileobj)\n",
        "fileobj.close()"
      ],
      "execution_count": 22,
      "outputs": []
    },
    {
      "cell_type": "code",
      "metadata": {
        "colab": {
          "base_uri": "https://localhost:8080/",
          "height": 360
        },
        "id": "AW8ur1Kz1vPq",
        "outputId": "e29fa2fa-83a8-4651-cd77-de18f8591608"
      },
      "source": [
        "# Loading DataFrame\n",
        "\n",
        "# Required Library\n",
        "import pickle\n",
        "\n",
        "file = \"/content/drive/MyDrive/News_Category_Dataset_v2.json/DATAFRAME.pkl\"\n",
        "fileobj = open(file, 'rb')\n",
        "df = pickle.load(fileobj)\n",
        "fileobj.close()\n",
        "\n",
        "print(type(df))\n",
        "df.head()"
      ],
      "execution_count": 23,
      "outputs": [
        {
          "output_type": "stream",
          "text": [
            "<class 'pandas.core.frame.DataFrame'>\n"
          ],
          "name": "stdout"
        },
        {
          "output_type": "execute_result",
          "data": {
            "text/html": [
              "<div>\n",
              "<style scoped>\n",
              "    .dataframe tbody tr th:only-of-type {\n",
              "        vertical-align: middle;\n",
              "    }\n",
              "\n",
              "    .dataframe tbody tr th {\n",
              "        vertical-align: top;\n",
              "    }\n",
              "\n",
              "    .dataframe thead th {\n",
              "        text-align: right;\n",
              "    }\n",
              "</style>\n",
              "<table border=\"1\" class=\"dataframe\">\n",
              "  <thead>\n",
              "    <tr style=\"text-align: right;\">\n",
              "      <th></th>\n",
              "      <th>TITLE</th>\n",
              "      <th>category</th>\n",
              "      <th>ENCODED_CATEGORY</th>\n",
              "      <th>authors</th>\n",
              "      <th>link</th>\n",
              "      <th>short_description</th>\n",
              "      <th>date</th>\n",
              "    </tr>\n",
              "  </thead>\n",
              "  <tbody>\n",
              "    <tr>\n",
              "      <th>0</th>\n",
              "      <td>2 mass shoot texa last week 1 tv</td>\n",
              "      <td>CRIME</td>\n",
              "      <td>6</td>\n",
              "      <td>Melissa Jeltsen</td>\n",
              "      <td>https://www.huffingtonpost.com/entry/texas-ama...</td>\n",
              "      <td>She left her husband. He killed their children...</td>\n",
              "      <td>2018-05-26</td>\n",
              "    </tr>\n",
              "    <tr>\n",
              "      <th>1</th>\n",
              "      <td>smith join diplo nicki jam 2018 world cup offi...</td>\n",
              "      <td>ENTERTAINMENT</td>\n",
              "      <td>10</td>\n",
              "      <td>Andy McDonald</td>\n",
              "      <td>https://www.huffingtonpost.com/entry/will-smit...</td>\n",
              "      <td>Of course it has a song.</td>\n",
              "      <td>2018-05-26</td>\n",
              "    </tr>\n",
              "    <tr>\n",
              "      <th>2</th>\n",
              "      <td>hugh grant marri first time age 57</td>\n",
              "      <td>ENTERTAINMENT</td>\n",
              "      <td>10</td>\n",
              "      <td>Ron Dicker</td>\n",
              "      <td>https://www.huffingtonpost.com/entry/hugh-gran...</td>\n",
              "      <td>The actor and his longtime girlfriend Anna Ebe...</td>\n",
              "      <td>2018-05-26</td>\n",
              "    </tr>\n",
              "    <tr>\n",
              "      <th>3</th>\n",
              "      <td>jim carrey blast 'castrato adam schiff democra...</td>\n",
              "      <td>ENTERTAINMENT</td>\n",
              "      <td>10</td>\n",
              "      <td>Ron Dicker</td>\n",
              "      <td>https://www.huffingtonpost.com/entry/jim-carre...</td>\n",
              "      <td>The actor gives Dems an ass-kicking for not fi...</td>\n",
              "      <td>2018-05-26</td>\n",
              "    </tr>\n",
              "    <tr>\n",
              "      <th>4</th>\n",
              "      <td>julianna marguli use donald trump poop bag pic...</td>\n",
              "      <td>ENTERTAINMENT</td>\n",
              "      <td>10</td>\n",
              "      <td>Ron Dicker</td>\n",
              "      <td>https://www.huffingtonpost.com/entry/julianna-...</td>\n",
              "      <td>The \"Dietland\" actress said using the bags is ...</td>\n",
              "      <td>2018-05-26</td>\n",
              "    </tr>\n",
              "  </tbody>\n",
              "</table>\n",
              "</div>"
            ],
            "text/plain": [
              "                                               TITLE  ...       date\n",
              "0                   2 mass shoot texa last week 1 tv  ... 2018-05-26\n",
              "1  smith join diplo nicki jam 2018 world cup offi...  ... 2018-05-26\n",
              "2                 hugh grant marri first time age 57  ... 2018-05-26\n",
              "3  jim carrey blast 'castrato adam schiff democra...  ... 2018-05-26\n",
              "4  julianna marguli use donald trump poop bag pic...  ... 2018-05-26\n",
              "\n",
              "[5 rows x 7 columns]"
            ]
          },
          "metadata": {},
          "execution_count": 23
        }
      ]
    },
    {
      "cell_type": "code",
      "metadata": {
        "id": "dUeIEsg9Ad_o"
      },
      "source": [
        "df1 = df.iloc[:, 1:2] \n",
        "df1 = df[['category', 'ENCODED_CATEGORY']]"
      ],
      "execution_count": 24,
      "outputs": []
    },
    {
      "cell_type": "code",
      "metadata": {
        "colab": {
          "base_uri": "https://localhost:8080/",
          "height": 421
        },
        "id": "MxQkuDKvAspn",
        "outputId": "3d8cda9c-d5d5-4fe2-a146-844f155798e2"
      },
      "source": [
        "df1"
      ],
      "execution_count": 25,
      "outputs": [
        {
          "output_type": "execute_result",
          "data": {
            "text/html": [
              "<div>\n",
              "<style scoped>\n",
              "    .dataframe tbody tr th:only-of-type {\n",
              "        vertical-align: middle;\n",
              "    }\n",
              "\n",
              "    .dataframe tbody tr th {\n",
              "        vertical-align: top;\n",
              "    }\n",
              "\n",
              "    .dataframe thead th {\n",
              "        text-align: right;\n",
              "    }\n",
              "</style>\n",
              "<table border=\"1\" class=\"dataframe\">\n",
              "  <thead>\n",
              "    <tr style=\"text-align: right;\">\n",
              "      <th></th>\n",
              "      <th>category</th>\n",
              "      <th>ENCODED_CATEGORY</th>\n",
              "    </tr>\n",
              "  </thead>\n",
              "  <tbody>\n",
              "    <tr>\n",
              "      <th>0</th>\n",
              "      <td>CRIME</td>\n",
              "      <td>6</td>\n",
              "    </tr>\n",
              "    <tr>\n",
              "      <th>1</th>\n",
              "      <td>ENTERTAINMENT</td>\n",
              "      <td>10</td>\n",
              "    </tr>\n",
              "    <tr>\n",
              "      <th>2</th>\n",
              "      <td>ENTERTAINMENT</td>\n",
              "      <td>10</td>\n",
              "    </tr>\n",
              "    <tr>\n",
              "      <th>3</th>\n",
              "      <td>ENTERTAINMENT</td>\n",
              "      <td>10</td>\n",
              "    </tr>\n",
              "    <tr>\n",
              "      <th>4</th>\n",
              "      <td>ENTERTAINMENT</td>\n",
              "      <td>10</td>\n",
              "    </tr>\n",
              "    <tr>\n",
              "      <th>...</th>\n",
              "      <td>...</td>\n",
              "      <td>...</td>\n",
              "    </tr>\n",
              "    <tr>\n",
              "      <th>200848</th>\n",
              "      <td>TECH</td>\n",
              "      <td>32</td>\n",
              "    </tr>\n",
              "    <tr>\n",
              "      <th>200849</th>\n",
              "      <td>SPORTS</td>\n",
              "      <td>28</td>\n",
              "    </tr>\n",
              "    <tr>\n",
              "      <th>200850</th>\n",
              "      <td>SPORTS</td>\n",
              "      <td>28</td>\n",
              "    </tr>\n",
              "    <tr>\n",
              "      <th>200851</th>\n",
              "      <td>SPORTS</td>\n",
              "      <td>28</td>\n",
              "    </tr>\n",
              "    <tr>\n",
              "      <th>200852</th>\n",
              "      <td>SPORTS</td>\n",
              "      <td>28</td>\n",
              "    </tr>\n",
              "  </tbody>\n",
              "</table>\n",
              "<p>200853 rows × 2 columns</p>\n",
              "</div>"
            ],
            "text/plain": [
              "             category  ENCODED_CATEGORY\n",
              "0               CRIME                 6\n",
              "1       ENTERTAINMENT                10\n",
              "2       ENTERTAINMENT                10\n",
              "3       ENTERTAINMENT                10\n",
              "4       ENTERTAINMENT                10\n",
              "...               ...               ...\n",
              "200848           TECH                32\n",
              "200849         SPORTS                28\n",
              "200850         SPORTS                28\n",
              "200851         SPORTS                28\n",
              "200852         SPORTS                28\n",
              "\n",
              "[200853 rows x 2 columns]"
            ]
          },
          "metadata": {},
          "execution_count": 25
        }
      ]
    },
    {
      "cell_type": "code",
      "metadata": {
        "id": "XTeD9lK6A7Vy"
      },
      "source": [
        "df1.to_csv(\"cat\")"
      ],
      "execution_count": 26,
      "outputs": []
    },
    {
      "cell_type": "code",
      "metadata": {
        "id": "Flg7nRtn1vTY"
      },
      "source": [
        "# News Headlines\n",
        "X = df['TITLE']\n",
        "\n",
        "# Encoded News Category\n",
        "y = df['ENCODED_CATEGORY']"
      ],
      "execution_count": 27,
      "outputs": []
    },
    {
      "cell_type": "code",
      "metadata": {
        "id": "zan8MawQk6t9"
      },
      "source": [
        "# Splitting the dataset into Training set & Testing set\n",
        "\n",
        "# Required Library\n",
        "from sklearn.model_selection import train_test_split\n",
        "\n",
        "# Testing_set = 25%  and  Training_set = 75%\n",
        "X_train, X_test, y_train, y_test = train_test_split(X, y , test_size = 0.25, random_state = 51)"
      ],
      "execution_count": 28,
      "outputs": []
    },
    {
      "cell_type": "code",
      "metadata": {
        "colab": {
          "base_uri": "https://localhost:8080/"
        },
        "id": "W2O5n-c56jnW",
        "outputId": "b9709c7c-e88e-44e4-bb99-69caf216b7d6"
      },
      "source": [
        "print(\"Shape of X : \" + str(X.shape))\n",
        "print(\"Shape of y : \" + str(y.shape))\n",
        "\n",
        "print(\"\\n\")\n",
        "print(\"Shape of X_train : \" + str(X_train.shape))\n",
        "print(\"Shape of y_train : \" + str(y_train.shape))\n",
        "print(\"Shape of X_test  : \" + str(X_test.shape))\n",
        "print(\"Shape of y_test  : \" + str(y_test.shape))"
      ],
      "execution_count": 29,
      "outputs": [
        {
          "output_type": "stream",
          "text": [
            "Shape of X : (200853,)\n",
            "Shape of y : (200853,)\n",
            "\n",
            "\n",
            "Shape of X_train : (150639,)\n",
            "Shape of y_train : (150639,)\n",
            "Shape of X_test  : (50214,)\n",
            "Shape of y_test  : (50214,)\n"
          ],
          "name": "stdout"
        }
      ]
    },
    {
      "cell_type": "code",
      "metadata": {
        "id": "1Aau92ZT6jqK"
      },
      "source": [
        "# Feature Extraction\n",
        "\n",
        "# Required Library\n",
        "from sklearn.feature_extraction.text import TfidfVectorizer\n",
        "\n",
        "# Instantiating TfidfVectorizer\n",
        "tfidf_vectorizer = TfidfVectorizer()\n",
        "\n",
        "# Fitting & Tranforming Training Data (X_train)\n",
        "tfidf_X_train = tfidf_vectorizer.fit_transform(X_train.values)\n",
        "\n",
        "# Tranforming Testing Data (X_test)\n",
        "tfidf_X_test = tfidf_vectorizer.transform(X_test.values)\n",
        "\n",
        "# Saving tfidf_vectorizer\n",
        "pickle.dump(tfidf_vectorizer, open(\"/content/drive/MyDrive/News_Category_Dataset_v2.json/tfidf_vectorizer.pkl\",\"wb\"))"
      ],
      "execution_count": 30,
      "outputs": []
    },
    {
      "cell_type": "code",
      "metadata": {
        "id": "maAJY-mQ6jtH"
      },
      "source": [
        "# Multinomial Naive Bayes Classifier\n",
        "\n",
        "# Required Library\n",
        "from sklearn.naive_bayes import MultinomialNB\n",
        "\n",
        "# Instantiating Naive Bayes Classifier with alpha = 1.0\n",
        "nb_classifier = MultinomialNB()\n",
        "\n",
        "# Fitting nb_classifier to Training Data\n",
        "nb_classifier.fit(tfidf_X_train, y_train)\n",
        "\n",
        "# Saving nb_classifier for tfidf_vectorizer\n",
        "pickle.dump(nb_classifier, open(\"/content/drive/MyDrive/News_Category_Dataset_v2.json/nb_classifier_for_tfidf_vectorizer.pkl\", \"wb\"))"
      ],
      "execution_count": 31,
      "outputs": []
    },
    {
      "cell_type": "code",
      "metadata": {
        "id": "3rf8gAjp6jv9"
      },
      "source": [
        "# Prediction\n",
        "pred = nb_classifier.predict(tfidf_X_test)"
      ],
      "execution_count": 32,
      "outputs": []
    },
    {
      "cell_type": "code",
      "metadata": {
        "colab": {
          "base_uri": "https://localhost:8080/"
        },
        "id": "xVyNW-Fd6jy2",
        "outputId": "d27799cc-b441-42ac-fc1e-289f9566a6a8"
      },
      "source": [
        "# Accuracy Score & Confusion Matrix\n",
        "\n",
        "# Required Library\n",
        "from sklearn import metrics\n",
        "\n",
        "print(\"Multinomial Naive Bayes : (TF-IDF Approach) \\n\")\n",
        "\n",
        "# Accuracy\n",
        "a_score = metrics.accuracy_score(y_test, pred)\n",
        "print(\"Accuracy : \" + str(\"{:.2f}\".format(a_score*100)),'%')\n",
        "\n",
        "print(\"\\n\")\n",
        "\n",
        "# Confusion Matrix\n",
        "# Labels : 0(Business), 1(Entertainment), 2(Health), 3(Science & Technology)\n",
        "# By defualt, Horizontally, Labels are from 0 to 3\n",
        "# By defualt, Vertically,   Labels are from 0 to 3\n",
        "confusion_matrix = metrics.confusion_matrix(y_test, pred)\n",
        "\n",
        "print(\"Confusion Matrix :\")\n",
        "print(confusion_matrix)"
      ],
      "execution_count": 33,
      "outputs": [
        {
          "output_type": "stream",
          "text": [
            "Multinomial Naive Bayes : (TF-IDF Approach) \n",
            "\n",
            "Accuracy : 41.29 %\n",
            "\n",
            "\n",
            "Confusion Matrix :\n",
            "[[ 0  0  0 ...  0  0  0]\n",
            " [ 0  0  0 ...  1  0  0]\n",
            " [ 0  0 13 ...  0  0  0]\n",
            " ...\n",
            " [ 0  0  0 ... 33  0  0]\n",
            " [ 0  0  0 ...  0  4  0]\n",
            " [ 0  0  0 ...  0  1  0]]\n"
          ],
          "name": "stdout"
        }
      ]
    },
    {
      "cell_type": "code",
      "metadata": {
        "id": "HouqWqKQ88b9"
      },
      "source": [
        "import numpy as np"
      ],
      "execution_count": 34,
      "outputs": []
    },
    {
      "cell_type": "code",
      "metadata": {
        "colab": {
          "base_uri": "https://localhost:8080/"
        },
        "id": "_ZzGpWDw6j14",
        "outputId": "156febea-6049-4c05-c6e7-b41ae3138a26"
      },
      "source": [
        "# Laplace Smoothing (Tunning parameter - alpha)\n",
        "\n",
        "# List of alphas\n",
        "alphas = np.arange(0,1,0.1)\n",
        "\n",
        "# Function for training nb_classifier with different alpha values\n",
        "def train_and_predict(alpha):\n",
        "    \n",
        "    # Instantiating Naive Bayes Classifier\n",
        "    nb_classifier = MultinomialNB(alpha=alpha)\n",
        "    \n",
        "    # Fitting nb_classifier to Training Data\n",
        "    nb_classifier.fit(tfidf_X_train, y_train)\n",
        "    \n",
        "    # Prediction\n",
        "    pred = nb_classifier.predict(tfidf_X_test)\n",
        "    \n",
        "    # Accuracy Score\n",
        "    a_score = metrics.accuracy_score(y_test, pred)\n",
        "    \n",
        "    return a_score\n",
        "\n",
        "\n",
        "# Iterating over alphas & printing the corresponding Accuracy Score\n",
        "for alpha in alphas:\n",
        "    print(\"Alpha : \", alpha)\n",
        "    print(\"Accuracy Score : \", train_and_predict(alpha))\n",
        "    print()"
      ],
      "execution_count": 35,
      "outputs": [
        {
          "output_type": "stream",
          "text": [
            "Alpha :  0.0\n"
          ],
          "name": "stdout"
        },
        {
          "output_type": "stream",
          "text": [
            "/usr/local/lib/python3.7/dist-packages/sklearn/naive_bayes.py:507: UserWarning: alpha too small will result in numeric errors, setting alpha = 1.0e-10\n",
            "  'setting alpha = %.1e' % _ALPHA_MIN)\n"
          ],
          "name": "stderr"
        },
        {
          "output_type": "stream",
          "text": [
            "Accuracy Score :  0.49285059943442067\n",
            "\n",
            "Alpha :  0.1\n",
            "Accuracy Score :  0.5214880312263512\n",
            "\n",
            "Alpha :  0.2\n",
            "Accuracy Score :  0.499302983231768\n",
            "\n",
            "Alpha :  0.30000000000000004\n",
            "Accuracy Score :  0.4813996096706098\n",
            "\n",
            "Alpha :  0.4\n",
            "Accuracy Score :  0.4655673716493408\n",
            "\n",
            "Alpha :  0.5\n",
            "Accuracy Score :  0.45337953558768473\n",
            "\n",
            "Alpha :  0.6000000000000001\n",
            "Accuracy Score :  0.44306368741785157\n",
            "\n",
            "Alpha :  0.7000000000000001\n",
            "Accuracy Score :  0.43394272513641613\n",
            "\n",
            "Alpha :  0.8\n",
            "Accuracy Score :  0.4255785239176325\n",
            "\n",
            "Alpha :  0.9\n",
            "Accuracy Score :  0.4185685267056996\n",
            "\n"
          ],
          "name": "stdout"
        }
      ]
    },
    {
      "cell_type": "code",
      "metadata": {
        "id": "JB1uQUfJ8jgA"
      },
      "source": [
        "# Feature Extraction\n",
        "\n",
        "# Required Library\n",
        "from sklearn.feature_extraction.text import CountVectorizer\n",
        "\n",
        "# Instantiating CountVectorizer\n",
        "count_vectorizer = CountVectorizer()\n",
        "\n",
        "# Fitting & Tranforming Training Data (X_train)\n",
        "count_X_train = count_vectorizer.fit_transform(X_train.values)\n",
        "\n",
        "# Tranforming Testing Data (X_test)\n",
        "count_X_test = count_vectorizer.transform(X_test.values)\n",
        "\n",
        "# Saving count_vectorizer\n",
        "pickle.dump(count_vectorizer, open(\"/content/drive/MyDrive/News_Category_Dataset_v2.json/count_vectorizer.pkl\",\"wb\"))"
      ],
      "execution_count": 36,
      "outputs": []
    },
    {
      "cell_type": "code",
      "metadata": {
        "id": "3tAtBsPT8ji2"
      },
      "source": [
        "# Multinomial Naive Bayes Classifier\n",
        "\n",
        "# Required Library\n",
        "from sklearn.naive_bayes import MultinomialNB\n",
        "\n",
        "# Instantiating Naive Bayes Classifier with alpha = 1.0\n",
        "nb_classifier = MultinomialNB()\n",
        "\n",
        "# Fitting nb_classifier to Training Data\n",
        "nb_classifier.fit(count_X_train, y_train)\n",
        "\n",
        "# Saving nb_classifier for count_vectorizer\n",
        "pickle.dump(nb_classifier, open(\"/content/drive/MyDrive/News_Category_Dataset_v2.json/nb_classifier_for_count_vectorizer.pkl\", \"wb\"))"
      ],
      "execution_count": 37,
      "outputs": []
    },
    {
      "cell_type": "code",
      "metadata": {
        "id": "0iK6auy98jl5"
      },
      "source": [
        "# Prediction\n",
        "pred = nb_classifier.predict(count_X_test)"
      ],
      "execution_count": 38,
      "outputs": []
    },
    {
      "cell_type": "code",
      "metadata": {
        "colab": {
          "base_uri": "https://localhost:8080/"
        },
        "id": "qUuH-VXM8jol",
        "outputId": "e73dc3f9-f823-4319-aaa1-75bb2642603d"
      },
      "source": [
        "# Accuracy Score & Confusion Matrix\n",
        "\n",
        "# Required Library\n",
        "from sklearn import metrics\n",
        "\n",
        "print(\"Multinomial Naive Bayes : (BOW Approach) \\n\")\n",
        "\n",
        "# Accuracy\n",
        "a_score = metrics.accuracy_score(y_test, pred)\n",
        "print(\"Accuracy : \" + str(\"{:.2f}\".format(a_score*100)),'%')\n",
        "\n",
        "print(\"\\n\")\n",
        "\n",
        "# Confusion Matrix\n",
        "# Labels : 0(Business), 1(Entertainment), 2(Health), 3(Science & Technology)\n",
        "# By defualt, Horizontally, Labels are from 0 to 3\n",
        "# By defualt, Vertically,   Labels are from 0 to 3\n",
        "confusion_matrix = metrics.confusion_matrix(y_test, pred)\n",
        "\n",
        "print(\"Confusion Matrix :\")\n",
        "print(confusion_matrix)"
      ],
      "execution_count": 39,
      "outputs": [
        {
          "output_type": "stream",
          "text": [
            "Multinomial Naive Bayes : (BOW Approach) \n",
            "\n",
            "Accuracy : 52.42 %\n",
            "\n",
            "\n",
            "Confusion Matrix :\n",
            "[[ 12   5   6 ...   0   0   0]\n",
            " [  1   3   5 ...   7   0   0]\n",
            " [  0   0 243 ...   4   0   0]\n",
            " ...\n",
            " [  0   0   9 ... 106   0   1]\n",
            " [  0   0   1 ...   0  32   5]\n",
            " [  0   0   5 ...   2   4  50]]\n"
          ],
          "name": "stdout"
        }
      ]
    },
    {
      "cell_type": "code",
      "metadata": {
        "colab": {
          "base_uri": "https://localhost:8080/"
        },
        "id": "3awZP6wX97Ji",
        "outputId": "342c3690-2964-411d-fbb7-23862622b920"
      },
      "source": [
        "# Laplace Smoothing (Tunning parameter - alpha)\n",
        "\n",
        "# List of alphas\n",
        "alphas = np.arange(0,1,0.1)\n",
        "\n",
        "# Function for training nb_classifier with different alpha values\n",
        "def train_and_predict(alpha):\n",
        "    \n",
        "    # Instantiating Naive Bayes Classifier\n",
        "    nb_classifier = MultinomialNB(alpha=alpha)\n",
        "    \n",
        "    # Fitting nb_classifier to Training Data\n",
        "    nb_classifier.fit(count_X_train, y_train)\n",
        "    \n",
        "    # Prediction\n",
        "    pred = nb_classifier.predict(count_X_test)\n",
        "    \n",
        "    # Accuracy Score\n",
        "    a_score = metrics.accuracy_score(y_test, pred)\n",
        "    \n",
        "    return a_score\n",
        "\n",
        "\n",
        "# Iterating over alphas & printing the corresponding Accuracy Score\n",
        "for alpha in alphas:\n",
        "    print(\"Alpha : \", alpha)\n",
        "    print(\"Accuracy Score : \", train_and_predict(alpha))\n",
        "    print()"
      ],
      "execution_count": 40,
      "outputs": [
        {
          "output_type": "stream",
          "text": [
            "Alpha :  0.0\n"
          ],
          "name": "stdout"
        },
        {
          "output_type": "stream",
          "text": [
            "/usr/local/lib/python3.7/dist-packages/sklearn/naive_bayes.py:507: UserWarning: alpha too small will result in numeric errors, setting alpha = 1.0e-10\n",
            "  'setting alpha = %.1e' % _ALPHA_MIN)\n"
          ],
          "name": "stderr"
        },
        {
          "output_type": "stream",
          "text": [
            "Accuracy Score :  0.49354761620265264\n",
            "\n",
            "Alpha :  0.1\n",
            "Accuracy Score :  0.5536702911538615\n",
            "\n",
            "Alpha :  0.2\n",
            "Accuracy Score :  0.5563587844027562\n",
            "\n",
            "Alpha :  0.30000000000000004\n",
            "Accuracy Score :  0.5555821085752978\n",
            "\n",
            "Alpha :  0.4\n",
            "Accuracy Score :  0.5529732743856295\n",
            "\n",
            "Alpha :  0.5\n",
            "Accuracy Score :  0.5486517704225913\n",
            "\n",
            "Alpha :  0.6000000000000001\n",
            "Accuracy Score :  0.5444298402835862\n",
            "\n",
            "Alpha :  0.7000000000000001\n",
            "Accuracy Score :  0.5396702114948022\n",
            "\n",
            "Alpha :  0.8\n",
            "Accuracy Score :  0.5347313498227586\n",
            "\n",
            "Alpha :  0.9\n",
            "Accuracy Score :  0.5291153861472896\n",
            "\n"
          ],
          "name": "stdout"
        }
      ]
    },
    {
      "cell_type": "code",
      "metadata": {
        "id": "zDBujd0K97MW"
      },
      "source": [
        "# Prediction of User News Headline\n",
        "\n",
        "# Loading Model\n",
        "count_vectorizer = pickle.load(open(\"/content/drive/MyDrive/News_Category_Dataset_v2.json/count_vectorizer.pkl\",\"rb\"))\n",
        "nb_classifier = pickle.load(open(\"/content/drive/MyDrive/News_Category_Dataset_v2.json/nb_classifier_for_count_vectorizer.pkl\",\"rb\"))"
      ],
      "execution_count": 41,
      "outputs": []
    },
    {
      "cell_type": "code",
      "metadata": {
        "colab": {
          "base_uri": "https://localhost:8080/"
        },
        "id": "wiIs2lhY97Pw",
        "outputId": "25804a64-74ec-4cd1-913c-30471fec6559"
      },
      "source": [
        "# Values encoded by LabelEncoder\n",
        "encoded = {1:'Arts&Culture' ,2:'BlackVoices',3:'Business',4:'College',5:'Comedy',6:'Crime',7:'Culture&Arts',8:'Divorce',9:'Education',10:'Entertainment',11:'Envirohmnemt',12:'fifty',13:'Food&Drink',14:'GoodNews',15:'Green',16:'Health and Living',17:'Home&Living',18:'Impact',19:'LatinoVOice',20:'Media',21:'Money',22:'Parenting',23:'Parents',24:'Politcs',25:'Queervoices',26:'Arts',27:'Science',28:'Sports',29:'Style',30:'Style&Beauty',31:'Taste',32:'Tech',33:'TheWorldPost',34:'Travel',35:'Weddings',36:'Weird_news',37:'Wellness',38:'Women',39:'WorldNews'}\n",
        "\n",
        "# Input\n",
        "user_headline = [input(\"News Headline : \")]\n",
        "\n",
        "# Transformation & Prediction of User Headline\n",
        "headline_counts = count_vectorizer.transform(user_headline)\n",
        "prediction = nb_classifier.predict(headline_counts)\n",
        "\n",
        "print(\"News Category : \", encoded[prediction[0]])"
      ],
      "execution_count": 42,
      "outputs": [
        {
          "output_type": "stream",
          "text": [
            "News Headline : Racism againest black should be ended\n",
            "News Category :  BlackVoices\n"
          ],
          "name": "stdout"
        }
      ]
    }
  ]
}